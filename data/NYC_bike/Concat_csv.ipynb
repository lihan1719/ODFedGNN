{
 "cells": [
  {
   "cell_type": "code",
   "execution_count": 1,
   "metadata": {},
   "outputs": [],
   "source": [
    "# 用于将下载的csv文件合并、转换成h5文件"
   ]
  },
  {
   "cell_type": "code",
   "execution_count": 2,
   "metadata": {},
   "outputs": [],
   "source": [
    "# 导入包\n",
    "import pandas as pd\n",
    "import numpy as np\n",
    "import h5py\n",
    "import multiprocessing\n",
    "import os"
   ]
  },
  {
   "cell_type": "code",
   "execution_count": 3,
   "metadata": {},
   "outputs": [
    {
     "data": {
      "text/plain": [
       "16"
      ]
     },
     "execution_count": 3,
     "metadata": {},
     "output_type": "execute_result"
    }
   ],
   "source": [
    "# 参数设置\n",
    "time_start = '201901' #时间格式，必须全为数字\n",
    "time_end = '201912'\n",
    "folder_path = \"./Download\" # 源数据\n",
    "h5_file_name = 'NYC_2019.h5' # h5 文件名称\n",
    "h5_path = './raw_bike_data/' # 目标路径\n",
    "h5_file = h5_path + h5_file_name\n",
    "multiprocessing.cpu_count()\n"
   ]
  },
  {
   "cell_type": "code",
   "execution_count": 16,
   "metadata": {},
   "outputs": [
    {
     "name": "stdout",
     "output_type": "stream",
     "text": [
      "要合并的文件有:\n",
      "./Download/201908-citibike-tripdata.csv\n",
      "./Download/201905-citibike-tripdata.csv\n",
      "./Download/201909-citibike-tripdata.csv\n",
      "./Download/201907-citibike-tripdata.csv\n",
      "./Download/201912-citibike-tripdata.csv\n",
      "./Download/201901-citibike-tripdata.csv\n",
      "./Download/201911-citibike-tripdata.csv\n",
      "./Download/201903-citibike-tripdata.csv\n",
      "./Download/201904-citibike-tripdata.csv\n",
      "./Download/201910-citibike-tripdata.csv\n",
      "./Download/201906-citibike-tripdata.csv\n",
      "./Download/201902-citibike-tripdata.csv\n"
     ]
    }
   ],
   "source": [
    "\n",
    "# 设置文件夹路径\n",
    "folder_path = \"./Download\"\n",
    "# 使用os.walk()函数遍历文件夹中的所有文件\n",
    "csv_files = []\n",
    "for root, dirs, files in os.walk(folder_path):\n",
    "    print('要合并的文件有:')\n",
    "    for filename in files:\n",
    "        # 打印文件路径\n",
    "        year_month = filename[:6]\n",
    "        if int(year_month) >= int(time_start) and int(year_month) <= int(time_end):\n",
    "            file_path = os.path.join(root, filename)\n",
    "            print(file_path)\n",
    "            csv_files.append(file_path)"
   ]
  },
  {
   "cell_type": "code",
   "execution_count": 6,
   "metadata": {},
   "outputs": [],
   "source": [
    "# 多进程读取CSV文件\n",
    "\n",
    "num_processes = multiprocessing.cpu_count()\n",
    "\n",
    "def preprocess_nyc_bike(csv_file):\n",
    "    df = pd.read_csv(csv_file)\n",
    "    drop_columns = ['tripduration','start station id','start station name','end station id','end station name','bikeid','usertype','birth year','gender']\n",
    "    df.drop(drop_columns,axis=1,inplace=True)\n",
    "    df.columns = ['stime','etime','slat','slon','elat','elon']\n",
    "    return df\n",
    "\n",
    "with multiprocessing.Pool(num_processes) as pool:\n",
    "    dfs = pool.map(preprocess_nyc_bike, csv_files)"
   ]
  },
  {
   "cell_type": "code",
   "execution_count": 7,
   "metadata": {},
   "outputs": [
    {
     "data": {
      "text/plain": [
       "[                            stime                     etime       slat  \\\n",
       " 0        2019-07-01 00:00:00.1320  2019-07-01 00:14:58.0040  40.756800   \n",
       " 1        2019-07-01 00:00:05.1780  2019-07-01 00:04:32.4500  40.776321   \n",
       " 2        2019-07-01 00:00:05.2130  2019-07-01 00:36:46.7490  40.724537   \n",
       " 3        2019-07-01 00:00:08.6010  2019-07-01 00:27:48.8050  40.718710   \n",
       " 4        2019-07-01 00:00:12.1580  2019-07-01 00:02:01.5670  40.805973   \n",
       " ...                           ...                       ...        ...   \n",
       " 2181059  2019-07-31 23:59:45.2950  2019-08-01 00:10:29.8640  40.686919   \n",
       " 2181060  2019-07-31 23:59:52.7170  2019-08-01 00:09:42.0870  40.788390   \n",
       " 2181061  2019-07-31 23:59:52.8280  2019-08-01 00:21:35.1090  40.711731   \n",
       " 2181062  2019-07-31 23:59:57.1130  2019-08-01 00:05:50.1350  40.750585   \n",
       " 2181063  2019-07-31 23:59:57.4870  2019-08-01 00:04:32.2070  40.757632   \n",
       " \n",
       "               slon       elat       elon  \n",
       " 0       -73.982912  40.754557 -73.965930  \n",
       " 1       -73.964274  40.782750 -73.971370  \n",
       " 2       -73.981854  40.731814 -73.959950  \n",
       " 3       -74.009001  40.732241 -74.000264  \n",
       " 4       -73.964928  40.802692 -73.962950  \n",
       " ...            ...        ...        ...  \n",
       " 2181059 -73.976682  40.686744 -73.990632  \n",
       " 2181060 -73.974700  40.774667 -73.984706  \n",
       " 2181061 -73.991930  40.714979 -74.013012  \n",
       " 2181062 -73.994685  40.739355 -73.999318  \n",
       " 2181063 -73.969306  40.763126 -73.965269  \n",
       " \n",
       " [2181064 rows x 6 columns],\n",
       "                             stime                     etime       slat  \\\n",
       " 0        2019-08-01 00:00:01.4680  2019-08-01 00:06:35.3780  40.718939   \n",
       " 1        2019-08-01 00:00:01.9290  2019-08-01 00:10:29.7840  40.686919   \n",
       " 2        2019-08-01 00:00:04.0480  2019-08-01 00:18:56.1650  40.702551   \n",
       " 3        2019-08-01 00:00:04.1630  2019-08-01 00:29:44.7940  40.760193   \n",
       " 4        2019-08-01 00:00:05.4580  2019-08-01 00:25:23.4550  40.781721   \n",
       " ...                           ...                       ...        ...   \n",
       " 2344219  2019-08-31 23:59:46.2930  2019-09-01 00:03:23.0360  40.741776   \n",
       " 2344220  2019-08-31 23:59:47.7970  2019-09-01 00:01:45.7440  40.685068   \n",
       " 2344221  2019-08-31 23:59:48.1560  2019-09-01 00:26:42.7760  40.712733   \n",
       " 2344222  2019-08-31 23:59:58.3620  2019-09-01 00:21:39.7040  40.784727   \n",
       " 2344223  2019-08-31 23:59:59.4520  2019-09-01 00:06:59.0210  40.763707   \n",
       " \n",
       "               slon       elat       elon  \n",
       " 0       -73.992663  40.710762 -73.994004  \n",
       " 1       -73.976682  40.686744 -73.990632  \n",
       " 2       -73.989402  40.682800 -73.999904  \n",
       " 3       -73.991255  40.721101 -73.991925  \n",
       " 4       -73.945940  40.781721 -73.945940  \n",
       " ...            ...        ...        ...  \n",
       " 2344219 -74.001497  40.745497 -74.001971  \n",
       " 2344220 -73.977908  40.685396 -73.974315  \n",
       " 2344221 -74.004607  40.692418 -73.989495  \n",
       " 2344222 -73.969617  40.765849 -73.986905  \n",
       " 2344223 -73.985162  40.757570 -73.990985  \n",
       " \n",
       " [2344224 rows x 6 columns],\n",
       "                             stime                     etime       slat  \\\n",
       " 0        2019-09-01 00:00:01.9580  2019-09-01 00:05:29.3410  40.730563   \n",
       " 1        2019-09-01 00:00:04.1430  2019-09-01 00:19:09.8360  40.682915   \n",
       " 2        2019-09-01 00:00:07.3090  2019-09-01 00:21:40.7580  40.784727   \n",
       " 3        2019-09-01 00:00:08.0640  2019-09-01 00:29:21.5040  40.788130   \n",
       " 4        2019-09-01 00:00:12.8510  2019-09-01 00:10:26.1850  40.746201   \n",
       " ...                           ...                       ...        ...   \n",
       " 2444895  2019-09-30 23:59:22.7670  2019-10-01 00:28:47.3180  40.793770   \n",
       " 2444896  2019-09-30 23:59:27.9270  2019-10-01 00:05:46.5700  40.709560   \n",
       " 2444897  2019-09-30 23:59:29.1450  2019-10-01 00:08:50.8070  40.727064   \n",
       " 2444898  2019-09-30 23:59:42.2520  2019-10-01 00:04:54.2320  40.724308   \n",
       " 2444899  2019-09-30 23:59:55.3740  2019-10-01 00:24:55.8400  40.711731   \n",
       " \n",
       "               slon       elat       elon  \n",
       " 0       -73.973984  40.732219 -73.981656  \n",
       " 1       -73.993182  40.693083 -73.971789  \n",
       " 2       -73.969617  40.765849 -73.986905  \n",
       " 3       -73.952060  40.778968 -73.973747  \n",
       " 4       -73.988557  40.760301 -73.998842  \n",
       " ...            ...        ...        ...  \n",
       " 2444895 -73.971888  40.780184 -73.977285  \n",
       " 2444896 -74.006536  40.715338 -74.016584  \n",
       " 2444897 -73.996621  40.722992 -73.979955  \n",
       " 2444898 -74.004730  40.718822 -73.995960  \n",
       " 2444899 -73.991930  40.739445 -73.976806  \n",
       " \n",
       " [2444900 rows x 6 columns]]"
      ]
     },
     "execution_count": 7,
     "metadata": {},
     "output_type": "execute_result"
    }
   ],
   "source": [
    "dfs"
   ]
  },
  {
   "cell_type": "code",
   "execution_count": 8,
   "metadata": {},
   "outputs": [],
   "source": [
    "# 合并dataframe并写入h5文件\n",
    "df = pd.concat(dfs)\n",
    "df.to_csv('data/NYC_bike/raw_bike_data/NYC_Bike.csv',index=False)"
   ]
  },
  {
   "cell_type": "code",
   "execution_count": null,
   "metadata": {},
   "outputs": [],
   "source": []
  }
 ],
 "metadata": {
  "kernelspec": {
   "display_name": "odfedgnn",
   "language": "python",
   "name": "python3"
  },
  "language_info": {
   "codemirror_mode": {
    "name": "ipython",
    "version": 3
   },
   "file_extension": ".py",
   "mimetype": "text/x-python",
   "name": "python",
   "nbconvert_exporter": "python",
   "pygments_lexer": "ipython3",
   "version": "3.8.0"
  },
  "orig_nbformat": 4
 },
 "nbformat": 4,
 "nbformat_minor": 2
}
